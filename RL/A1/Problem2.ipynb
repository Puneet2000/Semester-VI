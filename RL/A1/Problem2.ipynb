{
 "cells": [
  {
   "cell_type": "markdown",
   "metadata": {},
   "source": [
    "# Problem 2: Markov Reward Process\n",
    "Puneet Mangla (CS17BTECH11029)\n",
    "\n",
    "a) States are S = {S,1,3,5,6,7,8,W}. Transition Matrix : See code below\n",
    "\n",
    "b) Absorbing state is W as we can't exit from there.\n",
    "\n",
    "c) Let reward function be $R(s,a,s') = -1$ if $s \\neq W$ else $0$ . We take $\\gamma=1$ as evrry roll of die is equivalent, there is no notion of discounting. Reward -1 means, you need to roll a dice at that state"
   ]
  },
  {
   "cell_type": "code",
   "execution_count": 3,
   "metadata": {},
   "outputs": [],
   "source": [
    "import numpy as np\n",
    "import matplotlib.pyplot as plt\n",
    "N = 8 # no of states {S,1,3,5,6,7,8,W}\n",
    "\n",
    "# transition matrix based on 2(a)\n",
    "P = np.array([\n",
    "    [0, 1/4, 1/4,   0,   0, 1/4, 1/4,0], # S\n",
    "    [0,   0, 1/4, 1/4,   0, 1/4, 1/4,0], # 1\n",
    "    [0,   0,   0, 1/4, 1/4, 1/4, 1/4,0], # 3\n",
    "    [0,   0, 1/4,   0, 1/4, 1/4, 1/4,0], # 5\n",
    "    [0,   0, 1/4,   0,   0, 1/4, 1/4,1/4], # 6\n",
    "    [0,   0, 1/4,   0,   0, 1/4, 1/4,1/4], # 7\n",
    "    [0,   0, 1/4,   0,   0,   0, 1/2,1/4], # 8\n",
    "    [0,   0, 0,   0,   0,   0, 0,0] # W\n",
    "])\n",
    "\n",
    "R  = np.array([-1,-1,-1,-1,-1,-1,-1,0])\n",
    "gamma = 1"
   ]
  },
  {
   "cell_type": "markdown",
   "metadata": {},
   "source": [
    "Now, we simply use\n",
    "\n",
    "$V^\\pi = (\\mathbf{I} - \\gamma \\mathcal{P^\\pi})^{-1} \\mathcal{R^\\pi}$"
   ]
  },
  {
   "cell_type": "code",
   "execution_count": 4,
   "metadata": {},
   "outputs": [
    {
     "name": "stdout",
     "output_type": "stream",
     "text": [
      "Value function of states are:\n",
      "[-7.08333333 -7.         -6.66666667 -6.66666667 -5.33333333 -5.33333333\n",
      " -5.33333333  0.        ]\n"
     ]
    }
   ],
   "source": [
    "V = np.matmul(np.linalg.inv(np.eye(N, N) - gamma * P), R)\n",
    "print('Value function of states are:')\n",
    "print(V)"
   ]
  },
  {
   "cell_type": "markdown",
   "metadata": {},
   "source": [
    "The absolute value function represents the average rolling to reach state W."
   ]
  }
 ],
 "metadata": {
  "kernelspec": {
   "display_name": "Python 3",
   "language": "python",
   "name": "python3"
  },
  "language_info": {
   "codemirror_mode": {
    "name": "ipython",
    "version": 3
   },
   "file_extension": ".py",
   "mimetype": "text/x-python",
   "name": "python",
   "nbconvert_exporter": "python",
   "pygments_lexer": "ipython3",
   "version": "3.6.8"
  }
 },
 "nbformat": 4,
 "nbformat_minor": 2
}
